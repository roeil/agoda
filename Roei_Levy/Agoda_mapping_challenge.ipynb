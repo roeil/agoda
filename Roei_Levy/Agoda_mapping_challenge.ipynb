{
  "nbformat": 4,
  "nbformat_minor": 0,
  "metadata": {
    "colab": {
      "name": "Agoda mapping challenge.ipynb",
      "provenance": [],
      "collapsed_sections": []
    },
    "kernelspec": {
      "name": "python3",
      "display_name": "Python 3"
    },
    "language_info": {
      "name": "python"
    }
  },
  "cells": [
    {
      "cell_type": "markdown",
      "metadata": {
        "id": "1GhTjLJlGLTq"
      },
      "source": [
        "## load packages and read file"
      ]
    },
    {
      "cell_type": "code",
      "metadata": {
        "colab": {
          "base_uri": "https://localhost:8080/"
        },
        "id": "jpY3SrHu7Lom",
        "outputId": "bfe2e0b0-47d4-48e8-fe37-a2d9338ecd37"
      },
      "source": [
        "from nltk.tokenize import sent_tokenize, word_tokenize\n",
        "import warnings\n",
        "from nltk.tokenize import RegexpTokenizer\n",
        "\n",
        "# initiailze tokenizer\n",
        "tokenizer = RegexpTokenizer(r'\\w+')\n",
        "\n",
        "warnings.filterwarnings(action = 'ignore')\n",
        "import numpy as np\n",
        "import gensim\n",
        "from gensim.models import Word2Vec\n",
        "import pandas as pd\n",
        "import collections\n",
        "import itertools\n",
        "import nltk\n",
        "nltk.download('punkt')\n",
        "import math\n",
        "\n",
        "from scipy.spatial.distance import cosine\n"
      ],
      "execution_count": 1,
      "outputs": [
        {
          "output_type": "stream",
          "name": "stdout",
          "text": [
            "[nltk_data] Downloading package punkt to /root/nltk_data...\n",
            "[nltk_data]   Package punkt is already up-to-date!\n"
          ]
        }
      ]
    },
    {
      "cell_type": "code",
      "metadata": {
        "id": "OtP87C6g7N2j"
      },
      "source": [
        "xls=pd.ExcelFile('drive/MyDrive/agoda/mappinghotelsdataset.xlsx')\n",
        "P1 = pd.read_excel(xls, 'Partner1', na_filter=False)\n",
        "P2 = pd.read_excel(xls, 'Partner2',na_filter=False)"
      ],
      "execution_count": 2,
      "outputs": []
    },
    {
      "cell_type": "markdown",
      "metadata": {
        "id": "-5g-Gb-cGXK6"
      },
      "source": [
        "## Prepare  the corpus by tokenizing selected nominal values\n",
        "#### no need to remove NA's as they are considered as the empty string ('')"
      ]
    },
    {
      "cell_type": "code",
      "metadata": {
        "id": "7MlPcgAu7SiV"
      },
      "source": [
        "p14=[str(x) for x in P1.iloc[:,4]]\n",
        "p24=[str(x) for x in P2.iloc[:,4]]\n",
        "p16=[str(x) for x in P1.iloc[:,6]]\n",
        "p26=[str(x) for x in P2.iloc[:,6]]\n",
        "p1=P1.iloc[:,1]+\" \"+ P1.iloc[:,2] +  \" \" + P1.iloc[:,3]+\" \"+ \" \" +p14+\" \" +p16\n",
        "p1_a=P1.iloc[:,1]\n",
        "p1_1=P1.iloc[:,2]# +  \" \" + P1.iloc[:,3]\n",
        "p1_A=p14\n",
        "p2=P2.iloc[:,1]+\" \"+ P2.iloc[:,2] + \" \" + P2.iloc[:,3] + \" \" +p24+\" \" + p26\n",
        "p2_a=P2.iloc[:,1]\n",
        "p2_1=P2.iloc[:,2]\n",
        "p2_A=p24\n",
        "\n",
        "\n",
        "\n",
        "def tokenize(P:list):\n",
        "  temp1 = []\n",
        "\n",
        "  for p in P:\n",
        "    \n",
        "    try: \n",
        "      for j in tokenizer.tokenize(p):\n",
        "        temp1.append(j.lower())\n",
        "      \n",
        "    except:\n",
        "      continue;\n",
        "  return temp1\n",
        "words=tokenize(p1+p2)\n",
        "\n",
        "\n",
        "counter=collections.Counter(words)\n",
        "mc=[i[0] for i in counter.most_common(100)]"
      ],
      "execution_count": 3,
      "outputs": []
    },
    {
      "cell_type": "code",
      "metadata": {
        "id": "e7j4Rtct7T3l"
      },
      "source": [
        "def gather_data(P:list):\n",
        "  '''\n",
        "  tokenize data; \n",
        "  return tokenized bag of words\n",
        "  '''\n",
        "  data = []\n",
        "\n",
        "  for p in P:\n",
        "        temp = []\n",
        "        try:\n",
        "          for j in tokenizer.tokenize(p):\n",
        "            if j.lower() not in mc:\n",
        "\n",
        "              temp.append(j.lower())\n",
        "\n",
        "          data.append(temp)\n",
        "        except:\n",
        "          pass\n",
        "  return data\n",
        "\n",
        "data1=gather_data(p1); data2=gather_data(p2); data1_1=gather_data(p1_1); data1_A=gather_data(p1_A)\n",
        "data2_1=gather_data(p2_1); data1_a=gather_data(p1_a); data2_a=gather_data(p2_a); data2_A=gather_data(p2_A)"
      ],
      "execution_count": 4,
      "outputs": []
    },
    {
      "cell_type": "markdown",
      "metadata": {
        "id": "aH4CoiLBGmTN"
      },
      "source": [
        "## run nltk's word2vec with sg=1 (stands for skip gram of 1 n)"
      ]
    },
    {
      "cell_type": "code",
      "metadata": {
        "id": "bR0x8Yx37VMm"
      },
      "source": [
        "# run the word 2 vec algorithm; cbow method\n",
        "model1w = gensim.models.Word2Vec(data1+data2, min_count = 1, \n",
        "                              size = 250, window = 3,sg=1)\n",
        "\n",
        "\n",
        "# get embedded representations of words and add to relevant DSs\n",
        "w2v1=[sum([model1w.wv[y] for y in x]) for x in data1]\n",
        "w2v2=[sum([model1w.wv[y] for y in x]) for x in data2]\n",
        "w2v1_1=[sum([model1w.wv[y] for y in x]) for x in data1_1]\n",
        "w2v2_1=[sum([model1w.wv[y] for y in x]) for x in data2_1]\n",
        "w2v1_a=[sum([model1w.wv[y] for y in x]) for x in data1_a]\n",
        "w2v2_a=[sum([model1w.wv[y] for y in x]) for x in data2_a]\n",
        "w2v1_A=[sum([model1w.wv[y] for y in x]) for x in data1_A]\n",
        "w2v2_A=[sum([model1w.wv[y] for y in x]) for x in data2_A]\n",
        "\n",
        "\n",
        "P1[\"embedded_name\"]=w2v1\n",
        "P2[\"embedded_name\"]=w2v2\n",
        "P1[\"embedded_cc\"]=w2v1_1\n",
        "P2[\"embedded_cc\"]=w2v2_1\n",
        "P1[\"embedded_name_a\"]=w2v1_a\n",
        "P2[\"embedded_name_a\"]=w2v2_a\n",
        "P1['embedded_add']=w2v1_A\n",
        "P2['embedded_add']=w2v2_A\n",
        "P1['tokenized_name']=data1\n",
        "P2['tokenized_name']=data2\n",
        "P1['tokenized_cc']=data1_1\n",
        "P2['tokenized_cc']=data2_1\n",
        "P1['tokenized_name_a']=data1_a\n",
        "P2['tokenized_name_a']=data2_a\n",
        "P1['tokenized_add']=data1_A\n",
        "P2['tokenized_add']=data2_A\n",
        "\n"
      ],
      "execution_count": 5,
      "outputs": []
    },
    {
      "cell_type": "code",
      "metadata": {
        "id": "zmKreFoM7WSm"
      },
      "source": [
        "from copy import deepcopy\n",
        "P11=deepcopy(P1);P22=deepcopy(P2)"
      ],
      "execution_count": 6,
      "outputs": []
    },
    {
      "cell_type": "code",
      "metadata": {
        "colab": {
          "base_uri": "https://localhost:8080/",
          "height": 965
        },
        "id": "-CbbERhr7YZp",
        "outputId": "05b50c56-1715-47d7-93eb-db286fe8aa7c"
      },
      "source": [
        "s=set(list(P2[\"p2.country_code\"])+list(P1[\"p1.country_code\"]))\n",
        "\n",
        "P11.sort_values(by=[\"p1.country_code\"])\n"
      ],
      "execution_count": 7,
      "outputs": [
        {
          "output_type": "execute_result",
          "data": {
            "text/html": [
              "<div>\n",
              "<style scoped>\n",
              "    .dataframe tbody tr th:only-of-type {\n",
              "        vertical-align: middle;\n",
              "    }\n",
              "\n",
              "    .dataframe tbody tr th {\n",
              "        vertical-align: top;\n",
              "    }\n",
              "\n",
              "    .dataframe thead th {\n",
              "        text-align: right;\n",
              "    }\n",
              "</style>\n",
              "<table border=\"1\" class=\"dataframe\">\n",
              "  <thead>\n",
              "    <tr style=\"text-align: right;\">\n",
              "      <th></th>\n",
              "      <th>p1.key</th>\n",
              "      <th>p1.hotel_name</th>\n",
              "      <th>p1.city_name</th>\n",
              "      <th>p1.country_code</th>\n",
              "      <th>p1.hotel_address</th>\n",
              "      <th>p1.star_rating</th>\n",
              "      <th>p1.postal_code</th>\n",
              "      <th>embedded_name</th>\n",
              "      <th>embedded_cc</th>\n",
              "      <th>embedded_name_a</th>\n",
              "      <th>embedded_add</th>\n",
              "      <th>tokenized_name</th>\n",
              "      <th>tokenized_cc</th>\n",
              "      <th>tokenized_name_a</th>\n",
              "      <th>tokenized_add</th>\n",
              "    </tr>\n",
              "  </thead>\n",
              "  <tbody>\n",
              "    <tr>\n",
              "      <th>5797</th>\n",
              "      <td>ACFE9A2AA21CFB8C0164FE1FB2077995</td>\n",
              "      <td>Nirvana Holiday Homes - Sky View</td>\n",
              "      <td>Dubai</td>\n",
              "      <td>AE</td>\n",
              "      <td>Jumeirah Beach Road</td>\n",
              "      <td>0.0</td>\n",
              "      <td></td>\n",
              "      <td>[0.23985083, 0.1359621, 0.08622184, 0.5520509,...</td>\n",
              "      <td>[0.0906117, 0.018608693, -0.026342249, 0.09616...</td>\n",
              "      <td>[0.07457642, 0.08311945, 0.104099974, 0.333986...</td>\n",
              "      <td>[-0.00030174543, 0.0016875485, -0.0010588607, ...</td>\n",
              "      <td>[nirvana, holiday, homes, sky, view, dubai, ae...</td>\n",
              "      <td>[dubai]</td>\n",
              "      <td>[nirvana, holiday, homes, sky, view]</td>\n",
              "      <td>[jumeirah]</td>\n",
              "    </tr>\n",
              "    <tr>\n",
              "      <th>2059</th>\n",
              "      <td>D8770B2F8D4A764DAA3CCACC78777BAE</td>\n",
              "      <td>Dream Inn Dubai Apartments - Al Sahab</td>\n",
              "      <td>Dubai</td>\n",
              "      <td>AE</td>\n",
              "      <td>Al Sahab, Dubai Marina</td>\n",
              "      <td>0.0</td>\n",
              "      <td></td>\n",
              "      <td>[0.37224707, 0.12306656, -0.0416674, 0.5215299...</td>\n",
              "      <td>[0.0906117, 0.018608693, -0.026342249, 0.09616...</td>\n",
              "      <td>[0.091837585, 0.037471153, -0.012115473, 0.136...</td>\n",
              "      <td>[0.114833325, 0.034440294, -0.012732655, 0.171...</td>\n",
              "      <td>[dream, dubai, sahab, dubai, ae, sahab, dubai,...</td>\n",
              "      <td>[dubai]</td>\n",
              "      <td>[dream, dubai, sahab]</td>\n",
              "      <td>[sahab, dubai, marina]</td>\n",
              "    </tr>\n",
              "    <tr>\n",
              "      <th>8768</th>\n",
              "      <td>51E153135BD683C2D19D487E9C4305C6</td>\n",
              "      <td>Sheraton Dubai Mall of the Emirates Hotel</td>\n",
              "      <td>Dubai</td>\n",
              "      <td>AE</td>\n",
              "      <td>Sheikh Zayed Road, al Barsha 1</td>\n",
              "      <td>5.0</td>\n",
              "      <td></td>\n",
              "      <td>[0.31660965, 0.1518788, 0.025974296, 0.5527547...</td>\n",
              "      <td>[0.0906117, 0.018608693, -0.026342249, 0.09616...</td>\n",
              "      <td>[0.12012661, 0.080727085, 0.031943686, 0.26654...</td>\n",
              "      <td>[0.030906908, 0.019996624, 0.010849885, 0.0728...</td>\n",
              "      <td>[sheraton, dubai, mall, emirates, dubai, ae, s...</td>\n",
              "      <td>[dubai]</td>\n",
              "      <td>[sheraton, dubai, mall, emirates]</td>\n",
              "      <td>[sheikh, zayed, barsha]</td>\n",
              "    </tr>\n",
              "    <tr>\n",
              "      <th>9873</th>\n",
              "      <td>C4089B4631846440AAD3808AE6956DEF</td>\n",
              "      <td>The Address Dubai Mall Hotel</td>\n",
              "      <td>Dubai</td>\n",
              "      <td>AE</td>\n",
              "      <td>Emaar Boulevard</td>\n",
              "      <td>5.0</td>\n",
              "      <td></td>\n",
              "      <td>[0.33088988, 0.12741263, 0.03345774, 0.5627911...</td>\n",
              "      <td>[0.0906117, 0.018608693, -0.026342249, 0.09616...</td>\n",
              "      <td>[0.11596446, 0.038197342, 0.0017949548, 0.1943...</td>\n",
              "      <td>[0.04934926, 0.038060177, 0.04848206, 0.155055...</td>\n",
              "      <td>[address, dubai, mall, dubai, ae, emaar, boule...</td>\n",
              "      <td>[dubai]</td>\n",
              "      <td>[address, dubai, mall]</td>\n",
              "      <td>[emaar, boulevard]</td>\n",
              "    </tr>\n",
              "    <tr>\n",
              "      <th>2179</th>\n",
              "      <td>55EC13C3E59DBEC7785C92EFDC9D32C4</td>\n",
              "      <td>Al Hayat Hotel Apartments</td>\n",
              "      <td>Sharjah</td>\n",
              "      <td>AE</td>\n",
              "      <td>Al Zahara Street</td>\n",
              "      <td>3.0</td>\n",
              "      <td></td>\n",
              "      <td>[0.09497865, 0.0406579, 0.014801091, 0.1694241...</td>\n",
              "      <td>[0.017989594, 0.0069926674, 0.003988882, 0.044...</td>\n",
              "      <td>[0.0031739797, 0.0018889101, 0.0013704855, 0.0...</td>\n",
              "      <td>[-0.0011493713, -0.0007700937, -8.124997e-05, ...</td>\n",
              "      <td>[hayat, sharjah, ae, zahara]</td>\n",
              "      <td>[sharjah]</td>\n",
              "      <td>[hayat]</td>\n",
              "      <td>[zahara]</td>\n",
              "    </tr>\n",
              "    <tr>\n",
              "      <th>...</th>\n",
              "      <td>...</td>\n",
              "      <td>...</td>\n",
              "      <td>...</td>\n",
              "      <td>...</td>\n",
              "      <td>...</td>\n",
              "      <td>...</td>\n",
              "      <td>...</td>\n",
              "      <td>...</td>\n",
              "      <td>...</td>\n",
              "      <td>...</td>\n",
              "      <td>...</td>\n",
              "      <td>...</td>\n",
              "      <td>...</td>\n",
              "      <td>...</td>\n",
              "      <td>...</td>\n",
              "    </tr>\n",
              "    <tr>\n",
              "      <th>5861</th>\n",
              "      <td>C147FC455D8BDF41123A2E607252A9A7</td>\n",
              "      <td>Villa Afrique</td>\n",
              "      <td>Cape Town</td>\n",
              "      <td>ZA</td>\n",
              "      <td>29 Sluysken Road</td>\n",
              "      <td>5.0</td>\n",
              "      <td>7806</td>\n",
              "      <td>[0.0103668235, 0.0985159, 0.08481771, 0.226305...</td>\n",
              "      <td>[0.0077384673, 0.039140303, 0.035821587, 0.100...</td>\n",
              "      <td>[0.0034913237, 0.00081797515, -0.00082343, 0.0...</td>\n",
              "      <td>[-0.00035837915, 0.05465962, 0.046279162, 0.11...</td>\n",
              "      <td>[afrique, cape, 29, sluysken, 7806]</td>\n",
              "      <td>[cape]</td>\n",
              "      <td>[afrique]</td>\n",
              "      <td>[29, sluysken]</td>\n",
              "    </tr>\n",
              "    <tr>\n",
              "      <th>393</th>\n",
              "      <td>4D73E001C6153EBCD2EF0D777C3A1798</td>\n",
              "      <td>Kelvin Grove Guest House</td>\n",
              "      <td>Addo</td>\n",
              "      <td>ZA</td>\n",
              "      <td>R336 from Addo to Kirkwood</td>\n",
              "      <td>3.0</td>\n",
              "      <td>6105</td>\n",
              "      <td>[0.050658483, 0.071445115, 0.09650209, 0.28850...</td>\n",
              "      <td>[0.0023399787, 0.002118656, 0.004440095, 0.018...</td>\n",
              "      <td>[0.006914715, 0.016861537, 0.019506522, 0.0525...</td>\n",
              "      <td>[0.038058378, 0.051129173, 0.07228992, 0.21248...</td>\n",
              "      <td>[kelvin, grove, addo, r336, from, addo, to, ki...</td>\n",
              "      <td>[addo]</td>\n",
              "      <td>[kelvin, grove]</td>\n",
              "      <td>[r336, from, addo, to, kirkwood]</td>\n",
              "    </tr>\n",
              "    <tr>\n",
              "      <th>1268</th>\n",
              "      <td>9E240AE993FD0301A9D0C758AD3AACC6</td>\n",
              "      <td>Wild Peach Inn</td>\n",
              "      <td>Pretoria</td>\n",
              "      <td>ZA</td>\n",
              "      <td>69 Joseph Road, Lynnwood Glen</td>\n",
              "      <td>3.0</td>\n",
              "      <td>81</td>\n",
              "      <td>[0.041708343, 0.08943835, 0.10351606, 0.292897...</td>\n",
              "      <td>[0.0013812743, 0.012153095, 0.011351916, 0.030...</td>\n",
              "      <td>[0.005901312, 0.0090841865, 0.011110572, 0.030...</td>\n",
              "      <td>[0.026888363, 0.04179813, 0.051839944, 0.15553...</td>\n",
              "      <td>[wild, peach, pretoria, 69, joseph, lynnwood, ...</td>\n",
              "      <td>[pretoria]</td>\n",
              "      <td>[wild, peach]</td>\n",
              "      <td>[69, joseph, lynnwood, glen]</td>\n",
              "    </tr>\n",
              "    <tr>\n",
              "      <th>8516</th>\n",
              "      <td>BD0B7F011E452E8A8B07014623F10763</td>\n",
              "      <td>N1 Hotel &amp; Campsite Victoria Falls</td>\n",
              "      <td>Victoria Falls</td>\n",
              "      <td>ZW</td>\n",
              "      <td>266 Adam Stander Drive</td>\n",
              "      <td>2.0</td>\n",
              "      <td></td>\n",
              "      <td>[0.07923187, 0.09460268, 0.115563884, 0.368536...</td>\n",
              "      <td>[0.03653915, 0.036577795, 0.047784425, 0.15115...</td>\n",
              "      <td>[0.038066685, 0.04516484, 0.054440565, 0.16977...</td>\n",
              "      <td>[0.0021005145, 0.008631946, 0.012299973, 0.036...</td>\n",
              "      <td>[n1, campsite, victoria, falls, victoria, fall...</td>\n",
              "      <td>[victoria, falls]</td>\n",
              "      <td>[n1, campsite, victoria, falls]</td>\n",
              "      <td>[266, adam, stander]</td>\n",
              "    </tr>\n",
              "    <tr>\n",
              "      <th>378</th>\n",
              "      <td>446EAD97545BB1F8217690650811A3B0</td>\n",
              "      <td>The New Ambassador Hotel</td>\n",
              "      <td>Harare</td>\n",
              "      <td>ZW</td>\n",
              "      <td>88 Kwamwe Nkrumah</td>\n",
              "      <td>2.0</td>\n",
              "      <td></td>\n",
              "      <td>[0.010669198, 0.0522031, 0.042990018, 0.141052...</td>\n",
              "      <td>[-0.00016581529, 0.0005577777, -0.0005547014, ...</td>\n",
              "      <td>[0.0047461027, 0.006354372, 0.006470497, 0.019...</td>\n",
              "      <td>[0.0035633913, 0.041062843, 0.036035296, 0.108...</td>\n",
              "      <td>[ambassador, harare, zw, 88, kwamwe, nkrumah]</td>\n",
              "      <td>[harare]</td>\n",
              "      <td>[ambassador]</td>\n",
              "      <td>[88, kwamwe, nkrumah]</td>\n",
              "    </tr>\n",
              "  </tbody>\n",
              "</table>\n",
              "<p>10000 rows × 15 columns</p>\n",
              "</div>"
            ],
            "text/plain": [
              "                                p1.key  ...                     tokenized_add\n",
              "5797  ACFE9A2AA21CFB8C0164FE1FB2077995  ...                        [jumeirah]\n",
              "2059  D8770B2F8D4A764DAA3CCACC78777BAE  ...            [sahab, dubai, marina]\n",
              "8768  51E153135BD683C2D19D487E9C4305C6  ...           [sheikh, zayed, barsha]\n",
              "9873  C4089B4631846440AAD3808AE6956DEF  ...                [emaar, boulevard]\n",
              "2179  55EC13C3E59DBEC7785C92EFDC9D32C4  ...                          [zahara]\n",
              "...                                ...  ...                               ...\n",
              "5861  C147FC455D8BDF41123A2E607252A9A7  ...                    [29, sluysken]\n",
              "393   4D73E001C6153EBCD2EF0D777C3A1798  ...  [r336, from, addo, to, kirkwood]\n",
              "1268  9E240AE993FD0301A9D0C758AD3AACC6  ...      [69, joseph, lynnwood, glen]\n",
              "8516  BD0B7F011E452E8A8B07014623F10763  ...              [266, adam, stander]\n",
              "378   446EAD97545BB1F8217690650811A3B0  ...             [88, kwamwe, nkrumah]\n",
              "\n",
              "[10000 rows x 15 columns]"
            ]
          },
          "metadata": {},
          "execution_count": 7
        }
      ]
    },
    {
      "cell_type": "markdown",
      "metadata": {
        "id": "FBZ7V2abG8_x"
      },
      "source": [
        "## use cosine similaiirity and IoU to detect matches"
      ]
    },
    {
      "cell_type": "code",
      "metadata": {
        "colab": {
          "base_uri": "https://localhost:8080/"
        },
        "id": "JM-4iFc27ZnK",
        "outputId": "a74898a4-5c67-4942-861b-3e6092b49e36"
      },
      "source": [
        "%%time\n",
        "MATCHED_KEYS=[]\n",
        "p2fields3=[]\n",
        "\n",
        "for c in s:\n",
        "  print(c)\n",
        "  P11c=P11[P11['p1.country_code']==c]\n",
        "  P22c=P22[P22['p2.country_code']==c]\n",
        "  \n",
        "  for i, rowi in P11c.iterrows():\n",
        "    cos10=[]\n",
        "    lll=[]\n",
        "    for j, rowj in P22c.iterrows():\n",
        "      ll=(len(set(rowi[\"tokenized_name\"]).intersection(rowj[\"tokenized_name\"]))-len(set(rowi[\"tokenized_name\"]).difference(rowj[\"tokenized_name\"])))/len(set(rowi[\"tokenized_name\"]+rowj[\"tokenized_name\"]))\n",
        "      cs=cosine(rowi[-8], rowj[-8]) -sum([1/counter[w] for w in set(rowi[-4]+rowi[-2]+rowi[-1]).intersection(rowj[-4]+rowj[-2]+rowj[-1])]) \n",
        "      \n",
        "\n",
        "      lll.append(ll)\n",
        "      cos10.append(cs-ll)\n",
        "\n",
        "    if lll[cos10.index(min(cos10))]>=0:\n",
        "      p2fields3=P2[P2['p2.country_code']==c].iloc[cos10.index(min(cos10)),:4]\n",
        "      MATCHED_KEYS.append((rowi[0],p2fields3[0]))\n",
        "MK1=pd.DataFrame(MATCHED_KEYS)\n"
      ],
      "execution_count": null,
      "outputs": [
        {
          "output_type": "stream",
          "name": "stdout",
          "text": [
            "CO\n",
            "AU\n"
          ]
        }
      ]
    },
    {
      "cell_type": "markdown",
      "metadata": {
        "id": "G_r0D-bvHBBM"
      },
      "source": [
        "## Deal with duplicates"
      ]
    },
    {
      "cell_type": "code",
      "metadata": {
        "id": "uQbr_jtQ7c-8"
      },
      "source": [
        "MK1_c=deepcopy(MK1)\n",
        "len(MK1_c[1])-len(set(MK1_c[1]))\n",
        "l=list(MK1_c[1])\n",
        "dup=set([x for x in l if l.count(x) > 1])"
      ],
      "execution_count": null,
      "outputs": []
    },
    {
      "cell_type": "code",
      "metadata": {
        "id": "RQiSQfC07g-f"
      },
      "source": [
        "gl=[]\n",
        "for d in list(dup):\n",
        "\n",
        "  l1=[]; l2=[]\n",
        "  for i in range(len(list(MK1[MK1[1]==d][0]))):\n",
        "    l1.append(sum(cosine([P11[P11['p1.key']==r] for r in list(MK1[MK1[1]==d][0])][i][\"embedded_name\"],P22[P22['p2.key']==d][\"embedded_name\"])))\n",
        "    l2.append([P11[P11['p1.key']==r] for r in list(MK1[MK1[1]==d][0])][i].iloc[0][0])\n",
        "  gl.append((l1,l2))\n"
      ],
      "execution_count": null,
      "outputs": []
    },
    {
      "cell_type": "code",
      "metadata": {
        "id": "sczJPGhZ7ixw"
      },
      "source": [
        "for i in gl:\n",
        "  idx=(i[0].index(min(i[0])))\n",
        "  if min(i[0])<0.5:\n",
        "    for k in range(len(i[0])):\n",
        "      if k!=idx:\n",
        "        MK1_c=MK1_c[MK1_c[0] != i[1][k]]\n",
        "  else:\n",
        "    for k in range(len(i[0])):\n",
        "      MK1_c=MK1_c[MK1_c[0] != i[1][k]]\n"
      ],
      "execution_count": null,
      "outputs": []
    },
    {
      "cell_type": "markdown",
      "metadata": {
        "id": "A9ySSylHHSsw"
      },
      "source": [
        "## save results file as mappings.csv"
      ]
    },
    {
      "cell_type": "code",
      "metadata": {
        "id": "EjBakIcLILF-"
      },
      "source": [
        "MK1_c.to_csv('drive/MyDrive/agoda/mappings.csv', index=False)  "
      ],
      "execution_count": null,
      "outputs": []
    }
  ]
}